{
  "nbformat": 4,
  "nbformat_minor": 0,
  "metadata": {
    "colab": {
      "name": "collect-imgs-to-array-to-npz.ipynb",
      "provenance": [],
      "include_colab_link": true
    },
    "kernelspec": {
      "display_name": "Python 3",
      "language": "python",
      "name": "python3"
    },
    "language_info": {
      "codemirror_mode": {
        "name": "ipython",
        "version": 3
      },
      "file_extension": ".py",
      "mimetype": "text/x-python",
      "name": "python",
      "nbconvert_exporter": "python",
      "pygments_lexer": "ipython3",
      "version": "3.7.4"
    }
  },
  "cells": [
    {
      "cell_type": "markdown",
      "metadata": {
        "id": "view-in-github",
        "colab_type": "text"
      },
      "source": [
        "<a href=\"https://colab.research.google.com/github/rgraner/nuclio-cifar10/blob/master/collect_imgs_to_array_to_npz.ipynb\" target=\"_parent\"><img src=\"https://colab.research.google.com/assets/colab-badge.svg\" alt=\"Open In Colab\"/></a>"
      ]
    },
    {
      "cell_type": "markdown",
      "metadata": {
        "id": "gCAgnxUYVHvi"
      },
      "source": [
        "![Nuclio logo](https://nuclio.school/wp-content/uploads/2018/12/nucleoDS-newBlack.png)"
      ]
    },
    {
      "cell_type": "markdown",
      "metadata": {
        "id": "3ljwiRAlVsPJ"
      },
      "source": [
        "# Leer imagenes con Keras y guardado en array NPZ"
      ]
    },
    {
      "cell_type": "markdown",
      "metadata": {
        "id": "z8oMjqdvWE90"
      },
      "source": [
        "## 1. Librerias"
      ]
    },
    {
      "cell_type": "code",
      "metadata": {
        "id": "bpRZpXMjV8KS"
      },
      "source": [
        "import numpy as np\n",
        "import glob\n",
        "import os\n",
        "\n",
        "from tensorflow import keras as ks\n",
        "from tensorflow.keras.preprocessing.image import load_img, img_to_array\n"
      ],
      "execution_count": 2,
      "outputs": []
    },
    {
      "cell_type": "markdown",
      "metadata": {
        "id": "tqVVRFOAWbuk"
      },
      "source": [
        "## 2. Definimios parametros del tamaño de imagenes"
      ]
    },
    {
      "cell_type": "code",
      "metadata": {
        "id": "gPgyeSrdWa4n"
      },
      "source": [
        "ancho_imagen=150\n",
        "altura_imagen=150\n",
        "image_size=(ancho_imagen, altura_imagen)\n",
        "canales_imagenes=3\n",
        "\n",
        "# Definid la ruta de vuestro repositorio donde estan las carpetas de dogs-vs-cats descomprimidas\n",
        "ruta_archivos = '/content/drive/MyDrive/Ricardo/Education/Nuclio/dl/dogs-vs-cats'\n"
      ],
      "execution_count": 3,
      "outputs": []
    },
    {
      "cell_type": "markdown",
      "metadata": {
        "id": "21ncrF9PYQP0"
      },
      "source": [
        "Recogamos las posiciones de las barras en el path \"/\" para el proximo split()"
      ]
    },
    {
      "cell_type": "code",
      "metadata": {
        "id": "jvu2ZmnaYPnr"
      },
      "source": [
        "posicion_barra = ruta_archivos.count('/') + 1"
      ],
      "execution_count": 4,
      "outputs": []
    },
    {
      "cell_type": "markdown",
      "metadata": {
        "id": "8KpWerNKbgDs"
      },
      "source": [
        "## 3. Montamos Google Drive"
      ]
    },
    {
      "cell_type": "code",
      "metadata": {
        "id": "bgcKJt_6bltO",
        "colab": {
          "base_uri": "https://localhost:8080/"
        },
        "outputId": "59dd8d5c-e05c-408f-c3d6-5d7945c28661"
      },
      "source": [
        "from google.colab import drive\n",
        "drive.mount('/content/drive')"
      ],
      "execution_count": 5,
      "outputs": [
        {
          "output_type": "stream",
          "text": [
            "Mounted at /content/drive\n"
          ],
          "name": "stdout"
        }
      ]
    },
    {
      "cell_type": "markdown",
      "metadata": {
        "id": "5WX3NqGmXvRq"
      },
      "source": [
        "## 4. Cargamos las imagenes por carpetas, y montamos sus etiquetas\n",
        "Formato de los archivos es dog.XXXXX.jpg o cat.XXXXX.jpg donde cat y dog son las etiquetas\n",
        "\n",
        "Los archivos NPZ se guardan para cada paquete de imagenes (train, test, validation), pero dentro hay dos \"arrays\": x, y \n",
        "\n",
        "Para recuperarlas se usara el load del NPZ y el diccionario resultante tendra dos arrays, un \"x\" y un \"y\".\n"
      ]
    },
    {
      "cell_type": "code",
      "metadata": {
        "id": "qdGz_xn7ZwtM"
      },
      "source": [
        "def procesar_imagenes(subcarpeta,nombre_npz):\n",
        "  \n",
        "  ruta = ruta_archivos+subcarpeta+'/*'\n",
        "  files = glob.glob(ruta)\n",
        "  print('Proceso imagenes en ruta:', ruta)\n",
        "  imgs = [img_to_array(load_img(img, target_size=image_size)) for img in files]\n",
        "  imgs = np.array(imgs)\n",
        "  print(\"Procesadas %s imagenes\" % imgs.shape[0])\n",
        "  \n",
        "  print('Proceso etiquetas')\n",
        "  etiquetas = np.array([fn.split('/')[posicion_barra].split('.')[0].strip() for fn in files])\n",
        "  print(\"Procesadas %s etiquetas\" % etiquetas.shape[0])\n",
        "\n",
        "  print('Guardo arrays en NPZ:', ruta_archivos+nombre_npz)\n",
        "  ruta = ruta_archivos+nombre_npz\n",
        "  np.savez_compressed(ruta, x=imgs,y=etiquetas)\n",
        "\n",
        "  return imgs, etiquetas"
      ],
      "execution_count": 6,
      "outputs": []
    },
    {
      "cell_type": "code",
      "metadata": {
        "id": "vml5uLIxVKto",
        "colab": {
          "base_uri": "https://localhost:8080/"
        },
        "outputId": "99685e83-3334-43d0-a2a7-86f497ad00fb"
      },
      "source": [
        "train_imgs, train_labels = procesar_imagenes('training_data','xy_train_img.npz')\n",
        "val_imgs, val_labels = procesar_imagenes('validation_data','xy_val_img.npz')\n",
        "test_imgs, test_labels = procesar_imagenes('test_data','xy_test_img.npz')\n"
      ],
      "execution_count": 7,
      "outputs": [
        {
          "output_type": "stream",
          "text": [
            "Proceso imagenes en ruta: /content/drive/MyDrive/Ricardo/Education/Nuclio/dl/dogs-vs-catstraining_data/*\n",
            "Procesadas 0 imagenes\n",
            "Proceso etiquetas\n",
            "Procesadas 0 etiquetas\n",
            "Guardo arrays en NPZ: /content/drive/MyDrive/Ricardo/Education/Nuclio/dl/dogs-vs-catsxy_train_img.npz\n",
            "Proceso imagenes en ruta: /content/drive/MyDrive/Ricardo/Education/Nuclio/dl/dogs-vs-catsvalidation_data/*\n",
            "Procesadas 0 imagenes\n",
            "Proceso etiquetas\n",
            "Procesadas 0 etiquetas\n",
            "Guardo arrays en NPZ: /content/drive/MyDrive/Ricardo/Education/Nuclio/dl/dogs-vs-catsxy_val_img.npz\n",
            "Proceso imagenes en ruta: /content/drive/MyDrive/Ricardo/Education/Nuclio/dl/dogs-vs-catstest_data/*\n",
            "Procesadas 0 imagenes\n",
            "Proceso etiquetas\n",
            "Procesadas 0 etiquetas\n",
            "Guardo arrays en NPZ: /content/drive/MyDrive/Ricardo/Education/Nuclio/dl/dogs-vs-catsxy_test_img.npz\n"
          ],
          "name": "stdout"
        }
      ]
    },
    {
      "cell_type": "markdown",
      "metadata": {
        "id": "cKM3oDKzWXiA"
      },
      "source": [
        "## 5. Recuperamos los NPZ (ejemplo para el train)\r\n"
      ]
    },
    {
      "cell_type": "code",
      "metadata": {
        "id": "c27X2E7-lLjr"
      },
      "source": [
        "dict_npz = np.load(ruta_archivos+\"xy_train_img.npz\")"
      ],
      "execution_count": 8,
      "outputs": []
    },
    {
      "cell_type": "code",
      "metadata": {
        "id": "8lQ2a5RLmR3E"
      },
      "source": [
        "xtrain = dict_npz['x']\r\n",
        "ytrain = dict_npz['y']"
      ],
      "execution_count": 9,
      "outputs": []
    },
    {
      "cell_type": "code",
      "metadata": {
        "id": "Io827KiqmjQW",
        "colab": {
          "base_uri": "https://localhost:8080/"
        },
        "outputId": "ff80f6b8-c853-4c0b-f4d2-8fe8a9be73e8"
      },
      "source": [
        "print(\"X train tipo:\", type(xtrain))\r\n",
        "print(\"Y train tipo:\", type(ytrain))\r\n",
        "\r\n",
        "print(\"Tamaño X train: \", xtrain.shape)\r\n",
        "print(\"Tamaño Y train: \", ytrain.shape)"
      ],
      "execution_count": 10,
      "outputs": [
        {
          "output_type": "stream",
          "text": [
            "X train tipo: <class 'numpy.ndarray'>\n",
            "Y train tipo: <class 'numpy.ndarray'>\n",
            "Tamaño X train:  (0,)\n",
            "Tamaño Y train:  (0,)\n"
          ],
          "name": "stdout"
        }
      ]
    }
  ]
}