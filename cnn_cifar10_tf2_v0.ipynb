{
  "nbformat": 4,
  "nbformat_minor": 0,
  "metadata": {
    "kernelspec": {
      "display_name": "Python 3",
      "language": "python",
      "name": "python3"
    },
    "language_info": {
      "codemirror_mode": {
        "name": "ipython",
        "version": 3
      },
      "file_extension": ".py",
      "mimetype": "text/x-python",
      "name": "python",
      "nbconvert_exporter": "python",
      "pygments_lexer": "ipython3",
      "version": "3.7.4"
    },
    "colab": {
      "name": "cnn-cifar10-tf2-v0.ipynb",
      "provenance": [],
      "include_colab_link": true
    }
  },
  "cells": [
    {
      "cell_type": "markdown",
      "metadata": {
        "id": "view-in-github",
        "colab_type": "text"
      },
      "source": [
        "<a href=\"https://colab.research.google.com/github/rgraner/Spoon-Knife/blob/master/cnn_cifar10_tf2_v0.ipynb\" target=\"_parent\"><img src=\"https://colab.research.google.com/assets/colab-badge.svg\" alt=\"Open In Colab\"/></a>"
      ]
    },
    {
      "cell_type": "markdown",
      "metadata": {
        "id": "kvoVZp2DtzuP"
      },
      "source": [
        "![Nuclio logo](https://nuclio.school/wp-content/uploads/2018/12/nucleoDS-newBlack.png)"
      ]
    },
    {
      "cell_type": "markdown",
      "metadata": {
        "jupyter": {
          "source_hidden": true
        },
        "id": "jONpEh5RtzuR"
      },
      "source": [
        "## 1. Librerias\n",
        "\n",
        "Para empezar carguemos esas librerias que nos hacen falta"
      ]
    },
    {
      "cell_type": "code",
      "metadata": {
        "id": "6gEwJbjXtzuS"
      },
      "source": [
        "from tensorflow import keras as ks\n",
        "from matplotlib import pyplot as plt\n",
        "import numpy as np\n",
        "import time\n",
        "import datetime"
      ],
      "execution_count": null,
      "outputs": []
    },
    {
      "cell_type": "markdown",
      "metadata": {
        "id": "k_Dmvq6RtzuT"
      },
      "source": [
        "## 2. Arquitectura de red del modelo\n"
      ]
    },
    {
      "cell_type": "code",
      "metadata": {
        "id": "Z3ZKaUUHtzuT"
      },
      "source": [
        "model = ks.Sequential()\n",
        "\n",
        "model.add(ks.layers.Conv2D(32, (3, 3), strides=1, activation='relu', padding='same', input_shape=(32,32,3)))\n",
        "model.add(ks.layers.MaxPooling2D((2, 2)))\n",
        "\n",
        "model.add(ks.layers.Flatten())\n",
        "model.add(ks.layers.Dense(32, activation='relu'))\n",
        "model.add(ks.layers.Dense(10, activation='softmax'))\n"
      ],
      "execution_count": null,
      "outputs": []
    },
    {
      "cell_type": "markdown",
      "metadata": {
        "id": "OLxIEBhstzuU"
      },
      "source": [
        "Para revisar un modelo, nos basta con llamar al método **.summary()** del modelo"
      ]
    },
    {
      "cell_type": "code",
      "metadata": {
        "id": "aiulorrttzuV"
      },
      "source": [
        "model.summary()"
      ],
      "execution_count": null,
      "outputs": []
    },
    {
      "cell_type": "markdown",
      "metadata": {
        "id": "GLvzpR7ttzuV"
      },
      "source": [
        "## 3. Optimizador, función error\n"
      ]
    },
    {
      "cell_type": "code",
      "metadata": {
        "id": "d84znEJwtzuW"
      },
      "source": [
        "model.compile(optimizer='Adam',\n",
        "              loss='sparse_categorical_crossentropy',\n",
        "              metrics=['accuracy'])"
      ],
      "execution_count": null,
      "outputs": []
    },
    {
      "cell_type": "markdown",
      "metadata": {
        "id": "CQ07d3bctzuW"
      },
      "source": [
        "## 4. Preparamos los datos\n",
        "\n",
        "Cargamos los datos de CIFAR10 de los datasets directamente de las librerias de Keras. Estos ya estan dispuestos en train and test\n",
        "\n",
        "**Detalle importante:** \n",
        "> La red neuronal requiere que los inputs sean números reales, y lo haremos forzando la division de los valores de dentro de las matrices 28x28 (que tienen valoress del 0 al 255) por 255.0 (un real)"
      ]
    },
    {
      "cell_type": "code",
      "metadata": {
        "id": "RcgCdJJRtzuX"
      },
      "source": [
        "cifar10 = ks.datasets.cifar10\n",
        "\n",
        "(x_train, y_train), (x_test, y_test) = cifar10.load_data()\n",
        "\n",
        "x_train, x_test = x_train / 255.0, x_test / 255.0"
      ],
      "execution_count": null,
      "outputs": []
    },
    {
      "cell_type": "markdown",
      "metadata": {
        "id": "BjYe2VxptzuX"
      },
      "source": [
        "Obtenemos un array con todas las labels de CIFAR10"
      ]
    },
    {
      "cell_type": "code",
      "metadata": {
        "id": "--cVqcj0tzuX"
      },
      "source": [
        "cifar10_labels = [\n",
        "'airplane', # id 0\n",
        "'automobile',\n",
        "'bird',\n",
        "'cat',\n",
        "'deer',\n",
        "'dog',\n",
        "'frog',\n",
        "'horse',\n",
        "'ship',\n",
        "'truck',\n",
        "]\n",
        "\n",
        "print('Number of labels: %s' % len(cifar10_labels))"
      ],
      "execution_count": null,
      "outputs": []
    },
    {
      "cell_type": "markdown",
      "metadata": {
        "id": "O87jXBnNtzuY"
      },
      "source": [
        "Pintemos una muestra de las imagenes del dataset CIFAR10, a ver si se parece en algo a lo que esperamos.\n",
        "Primero, vemos que tipos de datos tengo, después mapeamos esas matrices en una escala de grises utilizando el método **.get_cmap()** de PlotLy con los nueve primeros números del dataset."
      ]
    },
    {
      "cell_type": "code",
      "metadata": {
        "id": "dOL3HOIhtzuY"
      },
      "source": [
        "# Pintemos una muestra de las las imagenes del dataset MNIST\n",
        "\n",
        "print('Train: X=%s, y=%s' % (x_train.shape, y_train.shape))\n",
        "print('Test: X=%s, y=%s' % (x_test.shape, y_test.shape))\n",
        "\n",
        "for i in range(9):\n",
        "\n",
        "    plt.subplot(330 + 1 + i)\n",
        "    plt.imshow(x_train[i], cmap=plt.get_cmap('gray'))\n",
        "    plt.title(cifar10_labels[y_train[i,0]])\n",
        "\n",
        "plt.subplots_adjust(hspace = 1)\n",
        "plt.show()"
      ],
      "execution_count": null,
      "outputs": []
    },
    {
      "cell_type": "markdown",
      "metadata": {
        "id": "VhCXCPRctzuY"
      },
      "source": [
        "Como vamos a querer ir haciendo validación a la vez que entrenamos (muy practico)"
      ]
    },
    {
      "cell_type": "code",
      "metadata": {
        "id": "rxfKCkn2tzuZ"
      },
      "source": [
        "x_val = x_train[-10000:]\n",
        "y_val = y_train[-10000:]\n",
        "\n",
        "x_train = x_train[:-10000]\n",
        "y_train = y_train[:-10000]\n"
      ],
      "execution_count": null,
      "outputs": []
    },
    {
      "cell_type": "markdown",
      "metadata": {
        "id": "RTwCV9-ptzuZ"
      },
      "source": [
        "Cuando añadimos convoluciones, necesitamos \"pre-tratar los datos\", porque **la convolución es pera una matriz de 4 campos** (más parecido a \"imagenes\"), no un array de 3 como son actualmente los data sets de train, test y validación. Así que toca darle al **.reshape()**\n",
        "\n",
        "Por eso, al salir de la Convolution, hay que hacer un Flatten, porque las capas FullDense esperan arrays, no matrices!!\n",
        "\n",
        "Luego lo imprimimos para ver que todo está correcto"
      ]
    },
    {
      "cell_type": "code",
      "metadata": {
        "id": "i9_7y8zZtzuZ"
      },
      "source": [
        "x_train_cnn = x_train.reshape((x_train.shape[0], 32, 32, 3))\n",
        "x_test_cnn = x_test.reshape((x_test.shape[0], 32, 32, 3))\n",
        "x_val_cnn = x_val.reshape((x_val.shape[0],32,32,3))\n",
        "\n",
        "# Validamos el resultado\n",
        "print('Train: X=%s, y=%s' % (x_train_cnn.shape, y_train.shape))\n",
        "print('Test: X=%s, y=%s' % (x_test_cnn.shape, y_test.shape))\n",
        "print('Validation: X=%s, y=%s' % (x_val_cnn.shape, y_val.shape))"
      ],
      "execution_count": null,
      "outputs": []
    },
    {
      "cell_type": "markdown",
      "metadata": {
        "id": "gBrL1feKtzua"
      },
      "source": [
        "## 5. Entrenamiento\n",
        "\n",
        "Ya podemos ponernos a entrenar el modelo!! Ojo, que hemos de entrenar contra los datos convertidos al formato que espera la Convolution.\n",
        "\n",
        "Empezaremos con 30 epocs, es decir, 30 pasadas completas del dataset (que a su vez sera con mini-batches internamente), fijando un batch de 64\n",
        "\n",
        "El metodo .fit() nos permite, definir además si disponemos de varias CPUs, GPUs, y si queremos ir validando datos a cada fin de epoch."
      ]
    },
    {
      "cell_type": "code",
      "metadata": {
        "id": "wD5UqV1Xtzua"
      },
      "source": [
        "t = time.perf_counter()"
      ],
      "execution_count": null,
      "outputs": []
    },
    {
      "cell_type": "code",
      "metadata": {
        "id": "D7cMS05qtzua"
      },
      "source": [
        "history = model.fit(x_train_cnn, y_train, epochs=5, use_multiprocessing=False, batch_size= 64, validation_data=(x_val, y_val))"
      ],
      "execution_count": null,
      "outputs": []
    },
    {
      "cell_type": "code",
      "metadata": {
        "id": "ENXo-tj1tzua"
      },
      "source": [
        "elapsed_time = datetime.timedelta(seconds=(time.perf_counter() - t))\n",
        "\n",
        "print('Tiempo de entrenamiento:', elapsed_time)"
      ],
      "execution_count": null,
      "outputs": []
    },
    {
      "cell_type": "markdown",
      "metadata": {
        "id": "7PHz0U35tzub"
      },
      "source": [
        "## 6. Evaluamos los resultados\n",
        "\n",
        "Obtengamos una grafica de como el error y la accuracy van evolucionando en cada epoch en los datos de entrenamiento y en la validación"
      ]
    },
    {
      "cell_type": "code",
      "metadata": {
        "id": "HEz9yBvYtzub"
      },
      "source": [
        "_, acc = model.evaluate(x_test, y_test, verbose=0)\n",
        "print('> %.3f' % (acc * 100.0))"
      ],
      "execution_count": null,
      "outputs": []
    },
    {
      "cell_type": "code",
      "metadata": {
        "id": "eESed3Drtzub"
      },
      "source": [
        "plt.title('Cross Entropy Loss')\n",
        "plt.plot(history.history['loss'], color='blue', label='train')\n",
        "plt.plot(history.history['val_loss'], color='orange', label='test')\n",
        "plt.show()\n",
        "\n",
        "plt.title('Classification Accuracy')\n",
        "plt.plot(history.history['accuracy'], color='blue', label='train')\n",
        "plt.plot(history.history['val_accuracy'], color='orange', label='test')\n",
        "plt.show()"
      ],
      "execution_count": null,
      "outputs": []
    },
    {
      "cell_type": "markdown",
      "metadata": {
        "id": "WBuBqCK6tzuc"
      },
      "source": [
        "El coste podemos ver que es estable y es en el epoch 15 que se fija en un valor. Además la accuracy baila alrededor de 0.10. No se puede decir que sea un modelo muy bueno.\n",
        "\n",
        "Veamos que tipo de predicciones estoy obteniendo sobre el conjunto de test (vamos a pintar las imagenes y sus clasificaciones)"
      ]
    },
    {
      "cell_type": "code",
      "metadata": {
        "id": "Jj6gEFNntzuc"
      },
      "source": [
        "predictions = model.predict(x_test_cnn)"
      ],
      "execution_count": null,
      "outputs": []
    },
    {
      "cell_type": "markdown",
      "metadata": {
        "id": "BVWCgju5tzuc"
      },
      "source": [
        "Una de las ventajas de Python es que hay montones de funciones y código realizado por terceras personas. Aquí me he fusilado unas bonitas funciones (que he adaptado un poco a mis necesidades) para poder pintar las imagenes, su label (ground truth) y las clasificaciones que hemos realizado."
      ]
    },
    {
      "cell_type": "code",
      "metadata": {
        "id": "maAt79zQtzuc"
      },
      "source": [
        "def plot_image(i, predictions_array, true_label, img):\n",
        "  predictions_array, true_label, img = predictions_array, true_label[i], img[i]\n",
        "  plt.grid(False)\n",
        "  plt.xticks([])\n",
        "  plt.yticks([])\n",
        "\n",
        "  plt.imshow(img, cmap=plt.cm.binary)\n",
        "\n",
        "  predicted_label = np.argmax(predictions_array)\n",
        "  if predicted_label == true_label:\n",
        "    color = 'blue'\n",
        "  else:\n",
        "    color = 'red'\n",
        "\n",
        "  plt.xlabel(\"{} {:2.0f}% ({})\".format(predicted_label,\n",
        "                                100*np.max(predictions_array),\n",
        "                                true_label[0]),\n",
        "                                color=color)\n",
        "\n",
        "def plot_value_array(i, predictions_array, true_label):\n",
        "  predictions_array, true_label = predictions_array, true_label[i]\n",
        "  plt.grid(False)\n",
        "  plt.xticks(range(10))\n",
        "  plt.yticks([])\n",
        "  thisplot = plt.bar(range(10), predictions_array, color=\"#777777\")\n",
        "  plt.ylim([0, 1])\n",
        "  predicted_label = np.argmax(predictions_array)\n",
        "\n",
        "  thisplot[predicted_label].set_color('red')\n",
        "  thisplot[true_label[0]].set_color('blue')"
      ],
      "execution_count": null,
      "outputs": []
    },
    {
      "cell_type": "markdown",
      "metadata": {
        "id": "sDW4B2Hbtzud"
      },
      "source": [
        "Dibujamos las primeras imagenes, con las predicciones y sus valores reales (un total de 20 imagenes, para no abusar de vuestros laptops)\n",
        "\n",
        "Coloreamos las prediciones correctas en azul y los fallos en rojo. Aunque primero he impreso las etiquetas para que tengamos una referencia al grafico."
      ]
    },
    {
      "cell_type": "code",
      "metadata": {
        "id": "VqG9QcPstzue"
      },
      "source": [
        "i = 0\n",
        "for l in cifar10_labels:\n",
        "    print(i, l)\n",
        "    i += 1\n",
        "\n",
        "num_rows = 5\n",
        "num_cols = 4\n",
        "start = 650\n",
        "num_images = num_rows*num_cols\n",
        "plt.figure(figsize=(2*2*num_cols, 2*num_rows))\n",
        "for i in range(num_images):\n",
        "  plt.subplot(num_rows, 2*num_cols, 2*i+1)\n",
        "  plot_image(i+start, predictions[i+start], y_test, x_test)\n",
        "  plt.subplot(num_rows, 2*num_cols, 2*i+2)\n",
        "  plot_value_array(i+start, predictions[i+start], y_test)\n",
        "plt.tight_layout()\n",
        "plt.show()"
      ],
      "execution_count": null,
      "outputs": []
    },
    {
      "cell_type": "code",
      "metadata": {
        "id": "xTR9regEtzue"
      },
      "source": [
        ""
      ],
      "execution_count": null,
      "outputs": []
    },
    {
      "cell_type": "code",
      "metadata": {
        "id": "hZ_IFlKVtzuf"
      },
      "source": [
        ""
      ],
      "execution_count": null,
      "outputs": []
    }
  ]
}